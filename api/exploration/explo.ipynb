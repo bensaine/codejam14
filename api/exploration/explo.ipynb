{
 "cells": [
  {
   "cell_type": "code",
   "execution_count": 2,
   "metadata": {},
   "outputs": [
    {
     "name": "stdout",
     "output_type": "stream",
     "text": [
      "Collecting osmnx\n",
      "  Downloading osmnx-1.1.2-py2.py3-none-any.whl.metadata (2.8 kB)\n",
      "Collecting folium\n",
      "  Downloading folium-0.16.0-py2.py3-none-any.whl.metadata (3.6 kB)\n",
      "Collecting geopandas>=0.10 (from osmnx)\n",
      "  Downloading geopandas-0.10.2-py2.py3-none-any.whl.metadata (935 bytes)\n",
      "Collecting matplotlib>=3.4 (from osmnx)\n",
      "  Downloading matplotlib-3.5.3-cp37-cp37m-manylinux_2_5_x86_64.manylinux1_x86_64.whl.metadata (6.7 kB)\n",
      "Requirement already satisfied: networkx>=2.6 in /home/james/programs/miniconda3/envs/ml-env/lib/python3.7/site-packages (from osmnx) (2.6.3)\n",
      "Collecting numpy>=1.21 (from osmnx)\n",
      "  Downloading numpy-1.21.6-cp37-cp37m-manylinux_2_12_x86_64.manylinux2010_x86_64.whl.metadata (2.1 kB)\n",
      "Collecting pandas>=1.3 (from osmnx)\n",
      "  Downloading pandas-1.3.5-cp37-cp37m-manylinux_2_17_x86_64.manylinux2014_x86_64.whl.metadata (12 kB)\n",
      "Collecting pyproj>=3.2 (from osmnx)\n",
      "  Downloading pyproj-3.2.1-cp37-cp37m-manylinux2010_x86_64.whl.metadata (22 kB)\n",
      "Requirement already satisfied: requests>=2.26 in /home/james/programs/miniconda3/envs/ml-env/lib/python3.7/site-packages (from osmnx) (2.28.1)\n",
      "Collecting Rtree>=0.9 (from osmnx)\n",
      "  Downloading Rtree-1.0.1-cp37-cp37m-manylinux_2_17_x86_64.manylinux2014_x86_64.whl.metadata (2.7 kB)\n",
      "Collecting Shapely<2.0,>=1.7 (from osmnx)\n",
      "  Downloading Shapely-1.8.5.post1-cp37-cp37m-manylinux_2_12_x86_64.manylinux2010_x86_64.whl.metadata (43 kB)\n",
      "\u001b[2K     \u001b[38;2;114;156;31m━━━━━━━━━━━━━━━━━━━━━━━━━━━━━━━━━━━━━━━━\u001b[0m \u001b[32m43.1/43.1 kB\u001b[0m \u001b[31m3.9 MB/s\u001b[0m eta \u001b[36m0:00:00\u001b[0m\n",
      "\u001b[?25hCollecting branca>=0.6.0 (from folium)\n",
      "  Downloading branca-0.8.0-py3-none-any.whl.metadata (1.5 kB)\n",
      "Requirement already satisfied: jinja2>=2.9 in /home/james/programs/miniconda3/envs/ml-env/lib/python3.7/site-packages (from folium) (3.0.1)\n",
      "Collecting xyzservices (from folium)\n",
      "  Downloading xyzservices-2023.2.0-py3-none-any.whl.metadata (4.0 kB)\n",
      "Collecting fiona>=1.8 (from geopandas>=0.10->osmnx)\n",
      "  Downloading fiona-1.9.6-cp37-cp37m-manylinux2014_x86_64.whl.metadata (50 kB)\n",
      "\u001b[2K     \u001b[38;2;114;156;31m━━━━━━━━━━━━━━━━━━━━━━━━━━━━━━━━━━━━━━━━\u001b[0m \u001b[32m50.2/50.2 kB\u001b[0m \u001b[31m7.9 MB/s\u001b[0m eta \u001b[36m0:00:00\u001b[0m\n",
      "\u001b[?25hRequirement already satisfied: MarkupSafe>=2.0 in /home/james/programs/miniconda3/envs/ml-env/lib/python3.7/site-packages (from jinja2>=2.9->folium) (2.0.1)\n",
      "Requirement already satisfied: cycler>=0.10 in /home/james/programs/miniconda3/envs/ml-env/lib/python3.7/site-packages (from matplotlib>=3.4->osmnx) (0.10.0)\n",
      "Requirement already satisfied: fonttools>=4.22.0 in /home/james/programs/miniconda3/envs/ml-env/lib/python3.7/site-packages (from matplotlib>=3.4->osmnx) (4.38.0)\n",
      "Requirement already satisfied: kiwisolver>=1.0.1 in /home/james/programs/miniconda3/envs/ml-env/lib/python3.7/site-packages (from matplotlib>=3.4->osmnx) (1.4.4)\n",
      "Requirement already satisfied: packaging>=20.0 in /home/james/programs/miniconda3/envs/ml-env/lib/python3.7/site-packages (from matplotlib>=3.4->osmnx) (21.0)\n",
      "Requirement already satisfied: pillow>=6.2.0 in /home/james/programs/miniconda3/envs/ml-env/lib/python3.7/site-packages (from matplotlib>=3.4->osmnx) (8.4.0)\n",
      "Requirement already satisfied: pyparsing>=2.2.1 in /home/james/programs/miniconda3/envs/ml-env/lib/python3.7/site-packages (from matplotlib>=3.4->osmnx) (3.0.9)\n",
      "Requirement already satisfied: python-dateutil>=2.7 in /home/james/programs/miniconda3/envs/ml-env/lib/python3.7/site-packages (from matplotlib>=3.4->osmnx) (2.8.2)\n",
      "Requirement already satisfied: pytz>=2017.3 in /home/james/programs/miniconda3/envs/ml-env/lib/python3.7/site-packages (from pandas>=1.3->osmnx) (2021.3)\n",
      "Requirement already satisfied: certifi in /home/james/programs/miniconda3/envs/ml-env/lib/python3.7/site-packages (from pyproj>=3.2->osmnx) (2022.12.7)\n",
      "Requirement already satisfied: charset-normalizer<3,>=2 in /home/james/programs/miniconda3/envs/ml-env/lib/python3.7/site-packages (from requests>=2.26->osmnx) (2.0.4)\n",
      "Requirement already satisfied: idna<4,>=2.5 in /home/james/programs/miniconda3/envs/ml-env/lib/python3.7/site-packages (from requests>=2.26->osmnx) (3.4)\n",
      "Requirement already satisfied: urllib3<1.27,>=1.21.1 in /home/james/programs/miniconda3/envs/ml-env/lib/python3.7/site-packages (from requests>=2.26->osmnx) (1.26.2)\n",
      "Requirement already satisfied: typing-extensions>=3.7 in /home/james/programs/miniconda3/envs/ml-env/lib/python3.7/site-packages (from Rtree>=0.9->osmnx) (3.7.4.3)\n",
      "Requirement already satisfied: six in /home/james/programs/miniconda3/envs/ml-env/lib/python3.7/site-packages (from cycler>=0.10->matplotlib>=3.4->osmnx) (1.16.0)\n",
      "Requirement already satisfied: attrs>=19.2.0 in /home/james/programs/miniconda3/envs/ml-env/lib/python3.7/site-packages (from fiona>=1.8->geopandas>=0.10->osmnx) (22.1.0)\n",
      "Requirement already satisfied: click~=8.0 in /home/james/programs/miniconda3/envs/ml-env/lib/python3.7/site-packages (from fiona>=1.8->geopandas>=0.10->osmnx) (8.0.4)\n",
      "Requirement already satisfied: click-plugins>=1.0 in /home/james/programs/miniconda3/envs/ml-env/lib/python3.7/site-packages (from fiona>=1.8->geopandas>=0.10->osmnx) (1.1.1)\n",
      "Collecting cligj>=0.5 (from fiona>=1.8->geopandas>=0.10->osmnx)\n",
      "  Downloading cligj-0.7.2-py3-none-any.whl.metadata (5.0 kB)\n",
      "Requirement already satisfied: importlib-metadata in /home/james/programs/miniconda3/envs/ml-env/lib/python3.7/site-packages (from fiona>=1.8->geopandas>=0.10->osmnx) (6.7.0)\n",
      "Requirement already satisfied: zipp>=0.5 in /home/james/programs/miniconda3/envs/ml-env/lib/python3.7/site-packages (from importlib-metadata->fiona>=1.8->geopandas>=0.10->osmnx) (3.11.0)\n",
      "Downloading osmnx-1.1.2-py2.py3-none-any.whl (95 kB)\n",
      "\u001b[2K   \u001b[38;2;114;156;31m━━━━━━━━━━━━━━━━━━━━━━━━━━━━━━━━━━━━━━━━\u001b[0m \u001b[32m95.9/95.9 kB\u001b[0m \u001b[31m9.4 MB/s\u001b[0m eta \u001b[36m0:00:00\u001b[0m\n",
      "\u001b[?25hDownloading folium-0.16.0-py2.py3-none-any.whl (100 kB)\n",
      "\u001b[2K   \u001b[38;2;114;156;31m━━━━━━━━━━━━━━━━━━━━━━━━━━━━━━━━━━━━━━━━\u001b[0m \u001b[32m100.0/100.0 kB\u001b[0m \u001b[31m10.8 MB/s\u001b[0m eta \u001b[36m0:00:00\u001b[0m\n",
      "\u001b[?25hDownloading branca-0.8.0-py3-none-any.whl (25 kB)\n",
      "Downloading geopandas-0.10.2-py2.py3-none-any.whl (1.0 MB)\n",
      "\u001b[2K   \u001b[38;2;114;156;31m━━━━━━━━━━━━━━━━━━━━━━━━━━━━━━━━━━━━━━━━\u001b[0m \u001b[32m1.0/1.0 MB\u001b[0m \u001b[31m15.1 MB/s\u001b[0m eta \u001b[36m0:00:00\u001b[0m MB/s\u001b[0m eta \u001b[36m0:00:01\u001b[0m\n",
      "\u001b[?25hDownloading matplotlib-3.5.3-cp37-cp37m-manylinux_2_5_x86_64.manylinux1_x86_64.whl (11.2 MB)\n",
      "\u001b[2K   \u001b[38;2;114;156;31m━━━━━━━━━━━━━━━━━━━━━━━━━━━━━━━━━━━━━━━━\u001b[0m \u001b[32m11.2/11.2 MB\u001b[0m \u001b[31m20.7 MB/s\u001b[0m eta \u001b[36m0:00:00\u001b[0mm eta \u001b[36m0:00:01\u001b[0m0:01\u001b[0m01\u001b[0m\n",
      "\u001b[?25hDownloading numpy-1.21.6-cp37-cp37m-manylinux_2_12_x86_64.manylinux2010_x86_64.whl (15.7 MB)\n",
      "\u001b[2K   \u001b[38;2;114;156;31m━━━━━━━━━━━━━━━━━━━━━━━━━━━━━━━━━━━━━━━━\u001b[0m \u001b[32m15.7/15.7 MB\u001b[0m \u001b[31m18.3 MB/s\u001b[0m eta \u001b[36m0:00:00\u001b[0mm eta \u001b[36m0:00:01\u001b[0m0:01\u001b[0m:01\u001b[0m\n",
      "\u001b[?25hDownloading pandas-1.3.5-cp37-cp37m-manylinux_2_17_x86_64.manylinux2014_x86_64.whl (11.3 MB)\n",
      "\u001b[2K   \u001b[38;2;114;156;31m━━━━━━━━━━━━━━━━━━━━━━━━━━━━━━━━━━━━━━━━\u001b[0m \u001b[32m11.3/11.3 MB\u001b[0m \u001b[31m22.0 MB/s\u001b[0m eta \u001b[36m0:00:00\u001b[0mm eta \u001b[36m0:00:01\u001b[0m0:01\u001b[0m01\u001b[0m\n",
      "\u001b[?25hDownloading pyproj-3.2.1-cp37-cp37m-manylinux2010_x86_64.whl (6.3 MB)\n",
      "\u001b[2K   \u001b[38;2;114;156;31m━━━━━━━━━━━━━━━━━━━━━━━━━━━━━━━━━━━━━━━━\u001b[0m \u001b[32m6.3/6.3 MB\u001b[0m \u001b[31m18.3 MB/s\u001b[0m eta \u001b[36m0:00:00\u001b[0mm eta \u001b[36m0:00:01\u001b[0m[36m0:00:01\u001b[0m\n",
      "\u001b[?25hDownloading Rtree-1.0.1-cp37-cp37m-manylinux_2_17_x86_64.manylinux2014_x86_64.whl (1.0 MB)\n",
      "\u001b[2K   \u001b[38;2;114;156;31m━━━━━━━━━━━━━━━━━━━━━━━━━━━━━━━━━━━━━━━━\u001b[0m \u001b[32m1.0/1.0 MB\u001b[0m \u001b[31m22.3 MB/s\u001b[0m eta \u001b[36m0:00:00\u001b[0m MB/s\u001b[0m eta \u001b[36m0:00:01\u001b[0m\n",
      "\u001b[?25hDownloading Shapely-1.8.5.post1-cp37-cp37m-manylinux_2_12_x86_64.manylinux2010_x86_64.whl (2.0 MB)\n",
      "\u001b[2K   \u001b[38;2;114;156;31m━━━━━━━━━━━━━━━━━━━━━━━━━━━━━━━━━━━━━━━━\u001b[0m \u001b[32m2.0/2.0 MB\u001b[0m \u001b[31m14.4 MB/s\u001b[0m eta \u001b[36m0:00:00\u001b[0m31m15.1 MB/s\u001b[0m eta \u001b[36m0:00:01\u001b[0m\n",
      "\u001b[?25hDownloading xyzservices-2023.2.0-py3-none-any.whl (55 kB)\n",
      "\u001b[2K   \u001b[38;2;114;156;31m━━━━━━━━━━━━━━━━━━━━━━━━━━━━━━━━━━━━━━━━\u001b[0m \u001b[32m55.4/55.4 kB\u001b[0m \u001b[31m12.2 MB/s\u001b[0m eta \u001b[36m0:00:00\u001b[0m\n",
      "\u001b[?25hDownloading fiona-1.9.6-cp37-cp37m-manylinux2014_x86_64.whl (15.6 MB)\n",
      "\u001b[2K   \u001b[38;2;114;156;31m━━━━━━━━━━━━━━━━━━━━━━━━━━━━━━━━━━━━━━━━\u001b[0m \u001b[32m15.6/15.6 MB\u001b[0m \u001b[31m19.2 MB/s\u001b[0m eta \u001b[36m0:00:00\u001b[0mm eta \u001b[36m0:00:01\u001b[0m0:01\u001b[0m:01\u001b[0m\n",
      "\u001b[?25hDownloading cligj-0.7.2-py3-none-any.whl (7.1 kB)\n",
      "Installing collected packages: xyzservices, Shapely, Rtree, pyproj, numpy, pandas, matplotlib, branca, folium, cligj, fiona, geopandas, osmnx\n",
      "  Attempting uninstall: numpy\n",
      "    Found existing installation: numpy 1.19.2\n",
      "    Uninstalling numpy-1.19.2:\n",
      "      Successfully uninstalled numpy-1.19.2\n",
      "  Attempting uninstall: pandas\n",
      "    Found existing installation: pandas 1.1.5\n",
      "    Uninstalling pandas-1.1.5:\n",
      "      Successfully uninstalled pandas-1.1.5\n",
      "  Attempting uninstall: matplotlib\n",
      "    Found existing installation: matplotlib 2.1.1\n",
      "    Uninstalling matplotlib-2.1.1:\n",
      "      Successfully uninstalled matplotlib-2.1.1\n",
      "\u001b[31mERROR: pip's dependency resolver does not currently take into account all the packages that are installed. This behaviour is the source of the following dependency conflicts.\n",
      "mtcnn 0.1.1 requires opencv-python>=4.1.0, which is not installed.\n",
      "torch-geometric 2.0.1 requires rdflib, which is not installed.\n",
      "gym 0.18.0 requires Pillow<=7.2.0, but you have pillow 8.4.0 which is incompatible.\n",
      "streamlit 0.86.0 requires click<8.0,>=7.0, but you have click 8.0.4 which is incompatible.\n",
      "tensorflow 2.2.0 requires scipy==1.4.1; python_version >= \"3\", but you have scipy 1.6.1 which is incompatible.\n",
      "tensorflow 2.2.0 requires tensorboard<2.3.0,>=2.2.0, but you have tensorboard 2.10.0 which is incompatible.\n",
      "yfinance 0.2.33 requires pytz>=2022.5, but you have pytz 2021.3 which is incompatible.\n",
      "yfinance 0.2.33 requires requests>=2.31, but you have requests 2.28.1 which is incompatible.\u001b[0m\u001b[31m\n",
      "\u001b[0mSuccessfully installed Rtree-1.0.1 Shapely-1.8.5.post1 branca-0.8.0 cligj-0.7.2 fiona-1.9.6 folium-0.16.0 geopandas-0.10.2 matplotlib-3.5.3 numpy-1.21.4 osmnx-1.1.2 pandas-1.3.5 pyproj-3.2.1 xyzservices-2023.2.0\n"
     ]
    }
   ],
   "source": [
    "!pip install osmnx folium "
   ]
  },
  {
   "cell_type": "code",
   "execution_count": 12,
   "metadata": {},
   "outputs": [
    {
     "name": "stdout",
     "output_type": "stream",
     "text": [
      "Collecting geopy\n",
      "  Downloading geopy-2.4.1-py3-none-any.whl.metadata (6.8 kB)\n",
      "Collecting geographiclib<3,>=1.52 (from geopy)\n",
      "  Downloading geographiclib-2.0-py3-none-any.whl.metadata (1.4 kB)\n",
      "Downloading geopy-2.4.1-py3-none-any.whl (125 kB)\n",
      "\u001b[2K   \u001b[38;2;114;156;31m━━━━━━━━━━━━━━━━━━━━━━━━━━━━━━━━━━━━━━━━\u001b[0m \u001b[32m125.4/125.4 kB\u001b[0m \u001b[31m10.2 MB/s\u001b[0m eta \u001b[36m0:00:00\u001b[0m\n",
      "\u001b[?25hDownloading geographiclib-2.0-py3-none-any.whl (40 kB)\n",
      "\u001b[2K   \u001b[38;2;114;156;31m━━━━━━━━━━━━━━━━━━━━━━━━━━━━━━━━━━━━━━━━\u001b[0m \u001b[32m40.3/40.3 kB\u001b[0m \u001b[31m7.7 MB/s\u001b[0m eta \u001b[36m0:00:00\u001b[0m\n",
      "\u001b[?25hInstalling collected packages: geographiclib, geopy\n",
      "Successfully installed geographiclib-2.0 geopy-2.4.1\n"
     ]
    }
   ],
   "source": [
    "!pip install geopy"
   ]
  },
  {
   "cell_type": "code",
   "execution_count": 7,
   "metadata": {},
   "outputs": [
    {
     "name": "stdout",
     "output_type": "stream",
     "text": [
      "Collecting geojson\n",
      "  Downloading geojson-3.1.0-py3-none-any.whl.metadata (16 kB)\n",
      "Downloading geojson-3.1.0-py3-none-any.whl (15 kB)\n",
      "Installing collected packages: geojson\n",
      "Successfully installed geojson-3.1.0\n"
     ]
    }
   ],
   "source": [
    "!pip install geojson"
   ]
  },
  {
   "cell_type": "code",
   "execution_count": 3,
   "metadata": {},
   "outputs": [
    {
     "ename": "KeyboardInterrupt",
     "evalue": "",
     "output_type": "error",
     "traceback": [
      "\u001b[0;31m---------------------------------------------------------------------------\u001b[0m",
      "\u001b[0;31mKeyboardInterrupt\u001b[0m                         Traceback (most recent call last)",
      "\u001b[0;32m<ipython-input-3-67353500dc57>\u001b[0m in \u001b[0;36m<module>\u001b[0;34m\u001b[0m\n\u001b[1;32m      2\u001b[0m \u001b[0;34m\u001b[0m\u001b[0m\n\u001b[1;32m      3\u001b[0m \u001b[0;31m# Download Montreal's street network\u001b[0m\u001b[0;34m\u001b[0m\u001b[0;34m\u001b[0m\u001b[0;34m\u001b[0m\u001b[0m\n\u001b[0;32m----> 4\u001b[0;31m \u001b[0mmontreal_graph\u001b[0m \u001b[0;34m=\u001b[0m \u001b[0mox\u001b[0m\u001b[0;34m.\u001b[0m\u001b[0mgraph_from_place\u001b[0m\u001b[0;34m(\u001b[0m\u001b[0;34m\"Montreal, Quebec, Canada\"\u001b[0m\u001b[0;34m,\u001b[0m \u001b[0mnetwork_type\u001b[0m\u001b[0;34m=\u001b[0m\u001b[0;34m'walk'\u001b[0m\u001b[0;34m)\u001b[0m\u001b[0;34m\u001b[0m\u001b[0;34m\u001b[0m\u001b[0m\n\u001b[0m\u001b[1;32m      5\u001b[0m \u001b[0;34m\u001b[0m\u001b[0m\n\u001b[1;32m      6\u001b[0m \u001b[0;31m# Convert to a geodataframe for manipulation\u001b[0m\u001b[0;34m\u001b[0m\u001b[0;34m\u001b[0m\u001b[0;34m\u001b[0m\u001b[0m\n",
      "\u001b[0;32m~/programs/miniconda3/envs/ml-env/lib/python3.7/site-packages/osmnx/graph.py\u001b[0m in \u001b[0;36mgraph_from_place\u001b[0;34m(query, network_type, simplify, retain_all, truncate_by_edge, which_result, buffer_dist, clean_periphery, custom_filter)\u001b[0m\n\u001b[1;32m    348\u001b[0m         \u001b[0mtruncate_by_edge\u001b[0m\u001b[0;34m=\u001b[0m\u001b[0mtruncate_by_edge\u001b[0m\u001b[0;34m,\u001b[0m\u001b[0;34m\u001b[0m\u001b[0;34m\u001b[0m\u001b[0m\n\u001b[1;32m    349\u001b[0m         \u001b[0mclean_periphery\u001b[0m\u001b[0;34m=\u001b[0m\u001b[0mclean_periphery\u001b[0m\u001b[0;34m,\u001b[0m\u001b[0;34m\u001b[0m\u001b[0;34m\u001b[0m\u001b[0m\n\u001b[0;32m--> 350\u001b[0;31m         \u001b[0mcustom_filter\u001b[0m\u001b[0;34m=\u001b[0m\u001b[0mcustom_filter\u001b[0m\u001b[0;34m,\u001b[0m\u001b[0;34m\u001b[0m\u001b[0;34m\u001b[0m\u001b[0m\n\u001b[0m\u001b[1;32m    351\u001b[0m     )\n\u001b[1;32m    352\u001b[0m \u001b[0;34m\u001b[0m\u001b[0m\n",
      "\u001b[0;32m~/programs/miniconda3/envs/ml-env/lib/python3.7/site-packages/osmnx/graph.py\u001b[0m in \u001b[0;36mgraph_from_polygon\u001b[0;34m(polygon, network_type, simplify, retain_all, truncate_by_edge, clean_periphery, custom_filter)\u001b[0m\n\u001b[1;32m    434\u001b[0m         \u001b[0;31m# simplify the graph topology\u001b[0m\u001b[0;34m\u001b[0m\u001b[0;34m\u001b[0m\u001b[0;34m\u001b[0m\u001b[0m\n\u001b[1;32m    435\u001b[0m         \u001b[0;32mif\u001b[0m \u001b[0msimplify\u001b[0m\u001b[0;34m:\u001b[0m\u001b[0;34m\u001b[0m\u001b[0;34m\u001b[0m\u001b[0m\n\u001b[0;32m--> 436\u001b[0;31m             \u001b[0mG_buff\u001b[0m \u001b[0;34m=\u001b[0m \u001b[0msimplification\u001b[0m\u001b[0;34m.\u001b[0m\u001b[0msimplify_graph\u001b[0m\u001b[0;34m(\u001b[0m\u001b[0mG_buff\u001b[0m\u001b[0;34m)\u001b[0m\u001b[0;34m\u001b[0m\u001b[0;34m\u001b[0m\u001b[0m\n\u001b[0m\u001b[1;32m    437\u001b[0m \u001b[0;34m\u001b[0m\u001b[0m\n\u001b[1;32m    438\u001b[0m         \u001b[0;31m# truncate graph by original polygon to return graph within polygon\u001b[0m\u001b[0;34m\u001b[0m\u001b[0;34m\u001b[0m\u001b[0;34m\u001b[0m\u001b[0m\n",
      "\u001b[0;32m~/programs/miniconda3/envs/ml-env/lib/python3.7/site-packages/osmnx/simplification.py\u001b[0m in \u001b[0;36msimplify_graph\u001b[0;34m(G, strict, remove_rings)\u001b[0m\n\u001b[1;32m    281\u001b[0m         \u001b[0;31m# construct the new consolidated edge's geometry for this path\u001b[0m\u001b[0;34m\u001b[0m\u001b[0;34m\u001b[0m\u001b[0;34m\u001b[0m\u001b[0m\n\u001b[1;32m    282\u001b[0m         path_attributes[\"geometry\"] = LineString(\n\u001b[0;32m--> 283\u001b[0;31m             \u001b[0;34m[\u001b[0m\u001b[0mPoint\u001b[0m\u001b[0;34m(\u001b[0m\u001b[0;34m(\u001b[0m\u001b[0mG\u001b[0m\u001b[0;34m.\u001b[0m\u001b[0mnodes\u001b[0m\u001b[0;34m[\u001b[0m\u001b[0mnode\u001b[0m\u001b[0;34m]\u001b[0m\u001b[0;34m[\u001b[0m\u001b[0;34m\"x\"\u001b[0m\u001b[0;34m]\u001b[0m\u001b[0;34m,\u001b[0m \u001b[0mG\u001b[0m\u001b[0;34m.\u001b[0m\u001b[0mnodes\u001b[0m\u001b[0;34m[\u001b[0m\u001b[0mnode\u001b[0m\u001b[0;34m]\u001b[0m\u001b[0;34m[\u001b[0m\u001b[0;34m\"y\"\u001b[0m\u001b[0;34m]\u001b[0m\u001b[0;34m)\u001b[0m\u001b[0;34m)\u001b[0m \u001b[0;32mfor\u001b[0m \u001b[0mnode\u001b[0m \u001b[0;32min\u001b[0m \u001b[0mpath\u001b[0m\u001b[0;34m]\u001b[0m\u001b[0;34m\u001b[0m\u001b[0;34m\u001b[0m\u001b[0m\n\u001b[0m\u001b[1;32m    284\u001b[0m         )\n\u001b[1;32m    285\u001b[0m \u001b[0;34m\u001b[0m\u001b[0m\n",
      "\u001b[0;32m~/programs/miniconda3/envs/ml-env/lib/python3.7/site-packages/osmnx/simplification.py\u001b[0m in \u001b[0;36m<listcomp>\u001b[0;34m(.0)\u001b[0m\n\u001b[1;32m    281\u001b[0m         \u001b[0;31m# construct the new consolidated edge's geometry for this path\u001b[0m\u001b[0;34m\u001b[0m\u001b[0;34m\u001b[0m\u001b[0;34m\u001b[0m\u001b[0m\n\u001b[1;32m    282\u001b[0m         path_attributes[\"geometry\"] = LineString(\n\u001b[0;32m--> 283\u001b[0;31m             \u001b[0;34m[\u001b[0m\u001b[0mPoint\u001b[0m\u001b[0;34m(\u001b[0m\u001b[0;34m(\u001b[0m\u001b[0mG\u001b[0m\u001b[0;34m.\u001b[0m\u001b[0mnodes\u001b[0m\u001b[0;34m[\u001b[0m\u001b[0mnode\u001b[0m\u001b[0;34m]\u001b[0m\u001b[0;34m[\u001b[0m\u001b[0;34m\"x\"\u001b[0m\u001b[0;34m]\u001b[0m\u001b[0;34m,\u001b[0m \u001b[0mG\u001b[0m\u001b[0;34m.\u001b[0m\u001b[0mnodes\u001b[0m\u001b[0;34m[\u001b[0m\u001b[0mnode\u001b[0m\u001b[0;34m]\u001b[0m\u001b[0;34m[\u001b[0m\u001b[0;34m\"y\"\u001b[0m\u001b[0;34m]\u001b[0m\u001b[0;34m)\u001b[0m\u001b[0;34m)\u001b[0m \u001b[0;32mfor\u001b[0m \u001b[0mnode\u001b[0m \u001b[0;32min\u001b[0m \u001b[0mpath\u001b[0m\u001b[0;34m]\u001b[0m\u001b[0;34m\u001b[0m\u001b[0;34m\u001b[0m\u001b[0m\n\u001b[0m\u001b[1;32m    284\u001b[0m         )\n\u001b[1;32m    285\u001b[0m \u001b[0;34m\u001b[0m\u001b[0m\n",
      "\u001b[0;32m~/programs/miniconda3/envs/ml-env/lib/python3.7/site-packages/networkx/classes/reportviews.py\u001b[0m in \u001b[0;36m__getitem__\u001b[0;34m(self, n)\u001b[0m\n\u001b[1;32m    191\u001b[0m                 \u001b[0;34mf\"try list(G.nodes)[{n.start}:{n.stop}:{n.step}]\"\u001b[0m\u001b[0;34m\u001b[0m\u001b[0;34m\u001b[0m\u001b[0m\n\u001b[1;32m    192\u001b[0m             )\n\u001b[0;32m--> 193\u001b[0;31m         \u001b[0;32mreturn\u001b[0m \u001b[0mself\u001b[0m\u001b[0;34m.\u001b[0m\u001b[0m_nodes\u001b[0m\u001b[0;34m[\u001b[0m\u001b[0mn\u001b[0m\u001b[0;34m]\u001b[0m\u001b[0;34m\u001b[0m\u001b[0;34m\u001b[0m\u001b[0m\n\u001b[0m\u001b[1;32m    194\u001b[0m \u001b[0;34m\u001b[0m\u001b[0m\n\u001b[1;32m    195\u001b[0m     \u001b[0;31m# Set methods\u001b[0m\u001b[0;34m\u001b[0m\u001b[0;34m\u001b[0m\u001b[0;34m\u001b[0m\u001b[0m\n",
      "\u001b[0;31mKeyboardInterrupt\u001b[0m: "
     ]
    }
   ],
   "source": [
    "import osmnx as ox\n",
    "\n",
    "# Download Montreal's street network\n",
    "montreal_graph = ox.graph_from_place(\"Montreal, Quebec, Canada\", network_type='walk')\n",
    "\n",
    "# Convert to a geodataframe for manipulation\n",
    "nodes, edges = ox.graph_to_gdfs(montreal_graph)"
   ]
  },
  {
   "cell_type": "code",
   "execution_count": 4,
   "metadata": {},
   "outputs": [],
   "source": [
    "import folium\n",
    "\n",
    "# Create a map centered on Montreal\n",
    "map_montreal = folium.Map(location=[45.5017, -73.5673], zoom_start=13)"
   ]
  },
  {
   "cell_type": "code",
   "execution_count": 10,
   "metadata": {},
   "outputs": [
    {
     "data": {
      "text/plain": [
       "<folium.plugins.heat_map.HeatMap at 0x7f4be8be8850>"
      ]
     },
     "execution_count": 10,
     "metadata": {},
     "output_type": "execute_result"
    }
   ],
   "source": [
    "import pandas as pd\n",
    "import geopandas as gpd\n",
    "from shapely.geometry import Point\n",
    "from scipy.spatial import cKDTree\n",
    "from geojson import Feature, Point, FeatureCollection, dumps\n",
    "import numpy as np\n",
    "\n",
    "crime_data = pd.read_csv('../data/crimes_raw.csv')\n",
    "# clean the data by removing rows with missing values\n",
    "crime_data = crime_data.dropna(subset=['LATITUDE', 'LONGITUDE'])\n",
    "\n",
    "# sample the data to reduce computation time\n",
    "# crime_data = crime_data.sample(1000)\n",
    "\n",
    "# Create a geodataframe from the crime data\n",
    "geometry = [Point(xy) for xy in zip(crime_data['LONGITUDE'], crime_data['LATITUDE'])]\n",
    "crimes = gpd.GeoDataFrame(crime_data, geometry=geometry)\n",
    "\n",
    "# create a heatmap from the crime data\n",
    "from folium import plugins\n",
    "from folium.plugins import HeatMap\n",
    "\n",
    "# Create a map centered on Montreal\n",
    "map_montreal = folium.Map(location=[45.5017, -73.5673], zoom_start=13)\n",
    "\n",
    "# Add a heatmap to the base map\n",
    "heat_data = [[point.xy[1][0], point.xy[0][0]] for point in crimes.geometry ]\n",
    "HeatMap(heat_data, blur=20, radius=10).add_to(map_montreal)\n",
    "\n",
    "# save heatmap as geojson\n",
    "\n",
    "\n",
    "# display crimes on folium map\n",
    "#for i, crime in crimes.iterrows():\n",
    " #   folium.Marker([crime['LATITUDE'], crime['LONGITUDE']], popup=crime['CATEGORIE']).add_to(map_montreal)"
   ]
  },
  {
   "cell_type": "code",
   "execution_count": 6,
   "metadata": {},
   "outputs": [
    {
     "data": {
      "text/html": [
       "<div style=\"width:100%;\"><div style=\"position:relative;width:100%;height:0;padding-bottom:60%;\"><span style=\"color:#565656\">Make this Notebook Trusted to load map: File -> Trust Notebook</span><iframe srcdoc=\"&lt;!DOCTYPE html&gt;\n",
       "&lt;html&gt;\n",
       "&lt;head&gt;\n",
       "    \n",
       "    &lt;meta http-equiv=&quot;content-type&quot; content=&quot;text/html; charset=UTF-8&quot; /&gt;\n",
       "    \n",
       "        &lt;script&gt;\n",
       "            L_NO_TOUCH = false;\n",
       "            L_DISABLE_3D = false;\n",
       "        &lt;/script&gt;\n",
       "    \n",
       "    &lt;style&gt;html, body {width: 100%;height: 100%;margin: 0;padding: 0;}&lt;/style&gt;\n",
       "    &lt;style&gt;#map {position:absolute;top:0;bottom:0;right:0;left:0;}&lt;/style&gt;\n",
       "    &lt;script src=&quot;https://cdn.jsdelivr.net/npm/leaflet@1.9.3/dist/leaflet.js&quot;&gt;&lt;/script&gt;\n",
       "    &lt;script src=&quot;https://code.jquery.com/jquery-3.7.1.min.js&quot;&gt;&lt;/script&gt;\n",
       "    &lt;script src=&quot;https://cdn.jsdelivr.net/npm/bootstrap@5.2.2/dist/js/bootstrap.bundle.min.js&quot;&gt;&lt;/script&gt;\n",
       "    &lt;script src=&quot;https://cdnjs.cloudflare.com/ajax/libs/Leaflet.awesome-markers/2.0.2/leaflet.awesome-markers.js&quot;&gt;&lt;/script&gt;\n",
       "    &lt;link rel=&quot;stylesheet&quot; href=&quot;https://cdn.jsdelivr.net/npm/leaflet@1.9.3/dist/leaflet.css&quot;/&gt;\n",
       "    &lt;link rel=&quot;stylesheet&quot; href=&quot;https://cdn.jsdelivr.net/npm/bootstrap@5.2.2/dist/css/bootstrap.min.css&quot;/&gt;\n",
       "    &lt;link rel=&quot;stylesheet&quot; href=&quot;https://netdna.bootstrapcdn.com/bootstrap/3.0.0/css/bootstrap.min.css&quot;/&gt;\n",
       "    &lt;link rel=&quot;stylesheet&quot; href=&quot;https://cdn.jsdelivr.net/npm/@fortawesome/fontawesome-free@6.2.0/css/all.min.css&quot;/&gt;\n",
       "    &lt;link rel=&quot;stylesheet&quot; href=&quot;https://cdnjs.cloudflare.com/ajax/libs/Leaflet.awesome-markers/2.0.2/leaflet.awesome-markers.css&quot;/&gt;\n",
       "    &lt;link rel=&quot;stylesheet&quot; href=&quot;https://cdn.jsdelivr.net/gh/python-visualization/folium/folium/templates/leaflet.awesome.rotate.min.css&quot;/&gt;\n",
       "    \n",
       "            &lt;meta name=&quot;viewport&quot; content=&quot;width=device-width,\n",
       "                initial-scale=1.0, maximum-scale=1.0, user-scalable=no&quot; /&gt;\n",
       "            &lt;style&gt;\n",
       "                #map_ec078351cd5cf8abb3c4d71dc2e9b63b {\n",
       "                    position: relative;\n",
       "                    width: 100.0%;\n",
       "                    height: 100.0%;\n",
       "                    left: 0.0%;\n",
       "                    top: 0.0%;\n",
       "                }\n",
       "                .leaflet-container { font-size: 1rem; }\n",
       "            &lt;/style&gt;\n",
       "        \n",
       "&lt;/head&gt;\n",
       "&lt;body&gt;\n",
       "    \n",
       "    \n",
       "            &lt;div class=&quot;folium-map&quot; id=&quot;map_ec078351cd5cf8abb3c4d71dc2e9b63b&quot; &gt;&lt;/div&gt;\n",
       "        \n",
       "&lt;/body&gt;\n",
       "&lt;script&gt;\n",
       "    \n",
       "    \n",
       "            var map_ec078351cd5cf8abb3c4d71dc2e9b63b = L.map(\n",
       "                &quot;map_ec078351cd5cf8abb3c4d71dc2e9b63b&quot;,\n",
       "                {\n",
       "                    center: [45.5017, -73.5673],\n",
       "                    crs: L.CRS.EPSG3857,\n",
       "                    zoom: 13,\n",
       "                    zoomControl: true,\n",
       "                    preferCanvas: false,\n",
       "                }\n",
       "            );\n",
       "\n",
       "            \n",
       "\n",
       "        \n",
       "    \n",
       "            var tile_layer_6dafc68aa64ae5ee873a7636ae5216ae = L.tileLayer(\n",
       "                &quot;https://tile.openstreetmap.org/{z}/{x}/{y}.png&quot;,\n",
       "                {&quot;attribution&quot;: &quot;\\u0026copy; \\u003ca href=\\&quot;https://www.openstreetmap.org/copyright\\&quot;\\u003eOpenStreetMap\\u003c/a\\u003e contributors&quot;, &quot;detectRetina&quot;: false, &quot;maxNativeZoom&quot;: 19, &quot;maxZoom&quot;: 19, &quot;minZoom&quot;: 0, &quot;noWrap&quot;: false, &quot;opacity&quot;: 1, &quot;subdomains&quot;: &quot;abc&quot;, &quot;tms&quot;: false}\n",
       "            );\n",
       "        \n",
       "    \n",
       "            tile_layer_6dafc68aa64ae5ee873a7636ae5216ae.addTo(map_ec078351cd5cf8abb3c4d71dc2e9b63b);\n",
       "        \n",
       "&lt;/script&gt;\n",
       "&lt;/html&gt;\" style=\"position:absolute;width:100%;height:100%;left:0;top:0;border:none !important;\" allowfullscreen webkitallowfullscreen mozallowfullscreen></iframe></div></div>"
      ],
      "text/plain": [
       "<folium.folium.Map at 0x7f4ba037fd90>"
      ]
     },
     "execution_count": 6,
     "metadata": {},
     "output_type": "execute_result"
    }
   ],
   "source": [
    "map_montreal"
   ]
  },
  {
   "cell_type": "code",
   "execution_count": 35,
   "metadata": {},
   "outputs": [],
   "source": [
    "import pandas as pd\n",
    "import numpy as np\n",
    "from geopy.distance import distance\n",
    "def calculate_crime_score(point, crime_data, radius=0.5):\n",
    "    point_coords = np.array(point)\n",
    "    crime_coords = np.array(crime_data.values)\n",
    "    distances = np.array([distance(point_coords, crime).km for crime in crime_coords[:1000]])\n",
    "    return np.sum(distances <= radius)"
   ]
  },
  {
   "cell_type": "code",
   "execution_count": 33,
   "metadata": {},
   "outputs": [],
   "source": [
    "arr_crime_data = crime_data[['LATITUDE','LONGITUDE']]"
   ]
  },
  {
   "cell_type": "code",
   "execution_count": 36,
   "metadata": {},
   "outputs": [
    {
     "data": {
      "text/plain": [
       "0"
      ]
     },
     "execution_count": 36,
     "metadata": {},
     "output_type": "execute_result"
    }
   ],
   "source": [
    "calculate_crime_score([45.5,-73.6],arr_crime_data)"
   ]
  },
  {
   "cell_type": "code",
   "execution_count": 39,
   "metadata": {},
   "outputs": [
    {
     "data": {
      "text/plain": [
       "Distance(3.48408607724284)"
      ]
     },
     "execution_count": 39,
     "metadata": {},
     "output_type": "execute_result"
    }
   ],
   "source": [
    "distance((45.5,-73.6),arr_crime_data.values[100])"
   ]
  },
  {
   "cell_type": "code",
   "execution_count": 4,
   "metadata": {},
   "outputs": [
    {
     "name": "stdout",
     "output_type": "stream",
     "text": [
      "getting graph\n",
      "got graph\n"
     ]
    }
   ],
   "source": [
    "place_name = \"Montreal, Quebec, Canada\"\n",
    "print(\"getting graph\")\n",
    "graph = (ox.graph_from_place(place_name, network_type=\"walk\"))\n",
    "print('got graph')"
   ]
  },
  {
   "cell_type": "code",
   "execution_count": 10,
   "metadata": {},
   "outputs": [],
   "source": [
    "ox.save_graphml(graph,'../data/montreal.graphml')"
   ]
  },
  {
   "cell_type": "code",
   "execution_count": 11,
   "metadata": {},
   "outputs": [],
   "source": [
    "g2 = ox.load_graphml('../data/montreal.graphml')"
   ]
  },
  {
   "cell_type": "code",
   "execution_count": 7,
   "metadata": {},
   "outputs": [
    {
     "data": {
      "text/plain": [
       "<networkx.classes.multidigraph.MultiDiGraph at 0x7fb21c051bd0>"
      ]
     },
     "execution_count": 7,
     "metadata": {},
     "output_type": "execute_result"
    }
   ],
   "source": [
    "graph"
   ]
  },
  {
   "cell_type": "code",
   "execution_count": 8,
   "metadata": {},
   "outputs": [
    {
     "name": "stdout",
     "output_type": "stream",
     "text": [
      "getting nearest nodes\n",
      "got nearest node\n",
      "got shortest path\n"
     ]
    },
    {
     "data": {
      "text/html": [
       "<div style=\"width:100%;\"><div style=\"position:relative;width:100%;height:0;padding-bottom:60%;\"><span style=\"color:#565656\">Make this Notebook Trusted to load map: File -> Trust Notebook</span><iframe srcdoc=\"&lt;!DOCTYPE html&gt;\n",
       "&lt;html&gt;\n",
       "&lt;head&gt;\n",
       "    \n",
       "    &lt;meta http-equiv=&quot;content-type&quot; content=&quot;text/html; charset=UTF-8&quot; /&gt;\n",
       "    \n",
       "        &lt;script&gt;\n",
       "            L_NO_TOUCH = false;\n",
       "            L_DISABLE_3D = false;\n",
       "        &lt;/script&gt;\n",
       "    \n",
       "    &lt;style&gt;html, body {width: 100%;height: 100%;margin: 0;padding: 0;}&lt;/style&gt;\n",
       "    &lt;style&gt;#map {position:absolute;top:0;bottom:0;right:0;left:0;}&lt;/style&gt;\n",
       "    &lt;script src=&quot;https://cdn.jsdelivr.net/npm/leaflet@1.9.3/dist/leaflet.js&quot;&gt;&lt;/script&gt;\n",
       "    &lt;script src=&quot;https://code.jquery.com/jquery-3.7.1.min.js&quot;&gt;&lt;/script&gt;\n",
       "    &lt;script src=&quot;https://cdn.jsdelivr.net/npm/bootstrap@5.2.2/dist/js/bootstrap.bundle.min.js&quot;&gt;&lt;/script&gt;\n",
       "    &lt;script src=&quot;https://cdnjs.cloudflare.com/ajax/libs/Leaflet.awesome-markers/2.0.2/leaflet.awesome-markers.js&quot;&gt;&lt;/script&gt;\n",
       "    &lt;link rel=&quot;stylesheet&quot; href=&quot;https://cdn.jsdelivr.net/npm/leaflet@1.9.3/dist/leaflet.css&quot;/&gt;\n",
       "    &lt;link rel=&quot;stylesheet&quot; href=&quot;https://cdn.jsdelivr.net/npm/bootstrap@5.2.2/dist/css/bootstrap.min.css&quot;/&gt;\n",
       "    &lt;link rel=&quot;stylesheet&quot; href=&quot;https://netdna.bootstrapcdn.com/bootstrap/3.0.0/css/bootstrap.min.css&quot;/&gt;\n",
       "    &lt;link rel=&quot;stylesheet&quot; href=&quot;https://cdn.jsdelivr.net/npm/@fortawesome/fontawesome-free@6.2.0/css/all.min.css&quot;/&gt;\n",
       "    &lt;link rel=&quot;stylesheet&quot; href=&quot;https://cdnjs.cloudflare.com/ajax/libs/Leaflet.awesome-markers/2.0.2/leaflet.awesome-markers.css&quot;/&gt;\n",
       "    &lt;link rel=&quot;stylesheet&quot; href=&quot;https://cdn.jsdelivr.net/gh/python-visualization/folium/folium/templates/leaflet.awesome.rotate.min.css&quot;/&gt;\n",
       "    \n",
       "            &lt;meta name=&quot;viewport&quot; content=&quot;width=device-width,\n",
       "                initial-scale=1.0, maximum-scale=1.0, user-scalable=no&quot; /&gt;\n",
       "            &lt;style&gt;\n",
       "                #map_f37f882f7c73066fa35573a2ffcac396 {\n",
       "                    position: relative;\n",
       "                    width: 100.0%;\n",
       "                    height: 100.0%;\n",
       "                    left: 0.0%;\n",
       "                    top: 0.0%;\n",
       "                }\n",
       "                .leaflet-container { font-size: 1rem; }\n",
       "            &lt;/style&gt;\n",
       "        \n",
       "&lt;/head&gt;\n",
       "&lt;body&gt;\n",
       "    \n",
       "    \n",
       "            &lt;div class=&quot;folium-map&quot; id=&quot;map_f37f882f7c73066fa35573a2ffcac396&quot; &gt;&lt;/div&gt;\n",
       "        \n",
       "&lt;/body&gt;\n",
       "&lt;script&gt;\n",
       "    \n",
       "    \n",
       "            var map_f37f882f7c73066fa35573a2ffcac396 = L.map(\n",
       "                &quot;map_f37f882f7c73066fa35573a2ffcac396&quot;,\n",
       "                {\n",
       "                    center: [45.5017, -73.5673],\n",
       "                    crs: L.CRS.EPSG3857,\n",
       "                    zoom: 12,\n",
       "                    zoomControl: true,\n",
       "                    preferCanvas: false,\n",
       "                }\n",
       "            );\n",
       "\n",
       "            \n",
       "\n",
       "        \n",
       "    \n",
       "            var tile_layer_2d31137025ec718c0d052dee1b4f6ff4 = L.tileLayer(\n",
       "                &quot;https://tile.openstreetmap.org/{z}/{x}/{y}.png&quot;,\n",
       "                {&quot;attribution&quot;: &quot;\\u0026copy; \\u003ca href=\\&quot;https://www.openstreetmap.org/copyright\\&quot;\\u003eOpenStreetMap\\u003c/a\\u003e contributors&quot;, &quot;detectRetina&quot;: false, &quot;maxNativeZoom&quot;: 19, &quot;maxZoom&quot;: 19, &quot;minZoom&quot;: 0, &quot;noWrap&quot;: false, &quot;opacity&quot;: 1, &quot;subdomains&quot;: &quot;abc&quot;, &quot;tms&quot;: false}\n",
       "            );\n",
       "        \n",
       "    \n",
       "            tile_layer_2d31137025ec718c0d052dee1b4f6ff4.addTo(map_f37f882f7c73066fa35573a2ffcac396);\n",
       "        \n",
       "    \n",
       "            var poly_line_7c5eb6665da54287b277423852da5337 = L.polyline(\n",
       "                [[45.5017325, -73.5672771], [45.5018042, -73.5673717], [45.5019002, -73.5674744], [45.5019332, -73.5675379], [45.5023094, -73.5682539], [45.5026704, -73.5689532], [45.5027795, -73.5689852], [45.5028163, -73.5690625], [45.5029721, -73.5693817], [45.5031755, -73.5697977], [45.5033537, -73.5701678], [45.503997, -73.5715096], [45.504044, -73.5716077], [45.5041095, -73.5715471], [45.5041491, -73.5716283], [45.5044805, -73.5723389], [45.504552, -73.5724916], [45.5047803, -73.5729472], [45.5049658, -73.5733175], [45.5050703, -73.5735414], [45.5050894, -73.5735481], [45.5054592, -73.5743401], [45.5055482, -73.5745337], [45.5062222, -73.575925], [45.5064335, -73.5763645], [45.5064577, -73.5764145], [45.5064872, -73.5764705], [45.5064949, -73.5764728], [45.5065765, -73.5766574], [45.5069539, -73.5774291], [45.5074547, -73.5784462], [45.5074982, -73.5785351], [45.5075408, -73.5786082], [45.5082245, -73.5799847], [45.5082717, -73.580085], [45.5087139, -73.5798583], [45.5092825, -73.5795941], [45.5093392, -73.5795636], [45.5093885, -73.5795311], [45.5094425, -73.5794851], [45.5094623, -73.5795314], [45.5096559, -73.5800717], [45.5107932, -73.5802018], [45.5108457, -73.5802144], [45.5110515, -73.5801365], [45.5113179, -73.5801894], [45.512066, -73.5815586], [45.5122279, -73.58167], [45.5122788, -73.5816989], [45.5130411, -73.5823279], [45.5131679, -73.5825398], [45.5142303, -73.5846497], [45.5142781, -73.5847529], [45.5144163, -73.5850509], [45.51456, -73.5853609], [45.5146027, -73.5854531], [45.5146201, -73.5854949], [45.5146796, -73.5856374], [45.5147485, -73.5856456], [45.5148405, -73.5856006], [45.5160246, -73.5881517], [45.5160565, -73.5882225], [45.5161162, -73.5883504], [45.5161917, -73.5885035], [45.5162957, -73.5887219], [45.5164565, -73.5887759], [45.5166682, -73.589228], [45.5167861, -73.5893161], [45.5168245, -73.5894637], [45.5170125, -73.5898965], [45.5173986, -73.5907774], [45.5174383, -73.5908679], [45.5174823, -73.5909662], [45.5179174, -73.5919375], [45.5180895, -73.5923292], [45.5181261, -73.5924126], [45.5181635, -73.5924982], [45.5183263, -73.5928714], [45.5187633, -73.5938574], [45.5189473, -73.5942706], [45.5189761, -73.5943372], [45.5190317, -73.594465], [45.5190581, -73.5945255], [45.5192918, -73.595064], [45.5195817, -73.5957209], [45.5196283, -73.5958246], [45.5196724, -73.5959228], [45.5200148, -73.5966933], [45.5203945, -73.5975368], [45.5204244, -73.5976018], [45.5204424, -73.5976539], [45.5211444, -73.5998234], [45.5221635, -73.6021286], [45.5222006, -73.6022107], [45.5222371, -73.6022967], [45.5228886, -73.6037596], [45.5236348, -73.6054449], [45.5236717, -73.6055268], [45.5237093, -73.6056125], [45.5245561, -73.6075101], [45.5257087, -73.6101189], [45.5257456, -73.6102023], [45.5257794, -73.6102776], [45.525946, -73.6106481], [45.5266605, -73.6122753], [45.5267561, -73.6124818], [45.5268704, -73.6127307], [45.5269128, -73.6128227], [45.5269499, -73.6129053], [45.5275003, -73.6141381], [45.5275523, -73.6142546], [45.5275883, -73.6143365], [45.5278512, -73.614935], [45.5279179, -73.6150931], [45.5279274, -73.6151167], [45.5291019, -73.6178785], [45.5291312, -73.6179455], [45.5291624, -73.6180156], [45.5293555, -73.6183633], [45.5296698, -73.6197349], [45.5297574, -73.6201647], [45.5298179, -73.6205167], [45.5300631, -73.6222427], [45.5299942, -73.6222876], [45.5297125, -73.6224812], [45.529634, -73.6225281], [45.5296446, -73.6226111], [45.5296664, -73.6227374], [45.5296882, -73.6228326], [45.530174, -73.6244862], [45.5301043, -73.62453], [45.5301324, -73.6246289], [45.529995, -73.6247106], [45.5300236, -73.6248089], [45.5299831, -73.6248328], [45.5297311, -73.624988], [45.5298197, -73.6253236], [45.5298273, -73.6253501], [45.5297805, -73.625378], [45.5306149, -73.628258], [45.530579, -73.6282806], [45.530589, -73.6283159], [45.5306746, -73.628665], [45.5306998, -73.6287487], [45.5307353, -73.6288498], [45.5308344, -73.6291898], [45.5314821, -73.6314134], [45.5315843, -73.631768], [45.5316054, -73.6318607], [45.5316265, -73.6319534], [45.5311714, -73.6322461], [45.5319119, -73.6347742], [45.5319725, -73.634983], [45.5319913, -73.6350491], [45.5320056, -73.6350979], [45.5320227, -73.6351513], [45.5320469, -73.6352422], [45.5320693, -73.6353212], [45.5320981, -73.6354165], [45.5321227, -73.6355223], [45.5321388, -73.6355785], [45.5329305, -73.6382609], [45.5329557, -73.6383632], [45.5329833, -73.638448], [45.5337974, -73.641358], [45.533856, -73.6414284], [45.5339068, -73.6414873], [45.5338657, -73.6415845], [45.5342072, -73.641803], [45.5343015, -73.642008], [45.5345517, -73.6435434], [45.5347347, -73.6446708], [45.5347864, -73.6449894], [45.5348804, -73.6454075], [45.534912, -73.6455775], [45.5350365, -73.6463609], [45.53501, -73.6464981], [45.5351861, -73.6475667], [45.5351884, -73.6476165], [45.5351906, -73.6476644], [45.5351931, -73.6477251], [45.5352906, -73.6483015], [45.5353027, -73.648367], [45.5353122, -73.6484225], [45.5354047, -73.6489629], [45.5354112, -73.649009], [45.5354253, -73.6490935], [45.5357735, -73.6513578], [45.5357381, -73.6514781], [45.5359242, -73.6526745], [45.5359957, -73.6531712], [45.5359974, -73.653182], [45.5361437, -73.6540996], [45.5362553, -73.6547999], [45.5363608, -73.6554533], [45.5364385, -73.6556214], [45.5364962, -73.6559825], [45.53651, -73.6561144], [45.5366219, -73.6568305], [45.5366665, -73.6570345], [45.5368982, -73.6580411], [45.5369292, -73.6581816], [45.5370176, -73.6593229], [45.537293, -73.6606186], [45.537141, -73.6607114], [45.536995, -73.6607943], [45.536846, -73.6608849], [45.5367042, -73.66097], [45.5365605, -73.6610524], [45.5364114, -73.6611372], [45.5362659, -73.6612252], [45.5360492, -73.6614575], [45.5359285, -73.6615749], [45.5350444, -73.6620995], [45.5350291, -73.6622665], [45.5349749, -73.6622988], [45.535296, -73.6633915], [45.5354161, -73.6638107], [45.5352895, -73.6638789], [45.5352384, -73.6639064], [45.535098, -73.6639896], [45.5349154, -73.6640993], [45.5347413, -73.6642214], [45.5345476, -73.664385], [45.5341306, -73.6646722], [45.5340887, -73.664705], [45.5336532, -73.6651128], [45.5336659, -73.6651799], [45.533607, -73.6652043], [45.5337053, -73.6658756], [45.5337176, -73.6659801], [45.5301455, -73.6680281], [45.5289924, -73.668719], [45.5288351, -73.6688176], [45.5287788, -73.6688538], [45.5287074, -73.6689007], [45.5284956, -73.6690369], [45.5283022, -73.6691579], [45.5280807, -73.669293], [45.5274693, -73.6696729], [45.5273733, -73.6697295], [45.5272949, -73.6697742], [45.5259677, -73.6705927], [45.5256545, -73.670786], [45.525584, -73.6708287], [45.5255399, -73.6707558], [45.5254738, -73.670789], [45.5254041, -73.670824], [45.5237912, -73.671862], [45.5237131, -73.6719094], [45.5236096, -73.6715763], [45.5234661, -73.671171], [45.5233019, -73.6708731], [45.5230714, -73.6706903], [45.5225274, -73.6704638], [45.5222881, -73.6705388], [45.5218715, -73.6707871], [45.5217272, -73.6708731], [45.5210822, -73.6712574], [45.5208354, -73.6714045], [45.5201977, -73.6717845], [45.5198199, -73.6707255], [45.5197728, -73.6704219], [45.5197088, -73.6696415], [45.5196832, -73.6693071], [45.5195249, -73.6688966], [45.5137025, -73.669653], [45.5124192, -73.6707702], [45.5123067, -73.6709288], [45.5122248, -73.6710444], [45.5119247, -73.6705967], [45.511401, -73.6712762], [45.5113063, -73.6714103], [45.5111858, -73.6715556], [45.5098213, -73.6687331], [45.5097621, -73.6685794], [45.5096596, -73.6683258], [45.5096205, -73.6682106], [45.5096025, -73.6681521], [45.509589, -73.6681078], [45.5095609, -73.6680169], [45.5095279, -73.6679126], [45.5093827, -73.6674224], [45.5094781, -73.667304], [45.5097854, -73.6671041], [45.5098262, -73.6670808], [45.5098886, -73.6670449], [45.5099619, -73.667003], [45.5100221, -73.6669689], [45.5103911, -73.6667556], [45.5105653, -73.6666541], [45.5106572, -73.6666002], [45.5112293, -73.6662694], [45.5114223, -73.6661574], [45.5115134, -73.6661046], [45.511614, -73.666047], [45.5117357, -73.665978], [45.5118938, -73.6658837], [45.5126122, -73.665468], [45.5131127, -73.6651793], [45.5133966, -73.6650158], [45.5135616, -73.664921], [45.5135478, -73.6648419], [45.5135322, -73.6647521], [45.5135858, -73.664722], [45.513366, -73.6639264], [45.5134246, -73.6638937], [45.5139774, -73.6635567], [45.5140791, -73.6634984], [45.5140599, -73.6634338], [45.5145337, -73.6631696], [45.5145147, -73.6631048], [45.5144693, -73.6629281], [45.514464, -73.6629088], [45.5143608, -73.6625455], [45.5144012, -73.6623392], [45.5143752, -73.6621566], [45.514026, -73.6606819], [45.514005, -73.6606076], [45.5139865, -73.6605424], [45.5144999, -73.6602295], [45.5142872, -73.6594389], [45.5143459, -73.6593961], [45.5144016, -73.6593275], [45.5143789, -73.6591502], [45.5152464, -73.6585635], [45.5160777, -73.6580022], [45.5163964, -73.6577877], [45.5167928, -73.6575521], [45.5168999, -73.6574841], [45.5169932, -73.6574271], [45.5171164, -73.6573534], [45.5173753, -73.6571364], [45.5176204, -73.6569684], [45.517609, -73.6569289]],\n",
       "                {&quot;bubblingMouseEvents&quot;: true, &quot;color&quot;: &quot;blue&quot;, &quot;dashArray&quot;: null, &quot;dashOffset&quot;: null, &quot;fill&quot;: false, &quot;fillColor&quot;: &quot;blue&quot;, &quot;fillOpacity&quot;: 0.2, &quot;fillRule&quot;: &quot;evenodd&quot;, &quot;lineCap&quot;: &quot;round&quot;, &quot;lineJoin&quot;: &quot;round&quot;, &quot;noClip&quot;: false, &quot;opacity&quot;: 1, &quot;smoothFactor&quot;: 1.0, &quot;stroke&quot;: true, &quot;weight&quot;: 2.5}\n",
       "            ).addTo(map_f37f882f7c73066fa35573a2ffcac396);\n",
       "        \n",
       "    \n",
       "            var marker_f21fe0232e327f7b49ed12dd06cda29b = L.marker(\n",
       "                [45.5017, -73.5673],\n",
       "                {}\n",
       "            ).addTo(map_f37f882f7c73066fa35573a2ffcac396);\n",
       "        \n",
       "    \n",
       "        var popup_35104952d744bc816599b91656bf1027 = L.popup({&quot;maxWidth&quot;: &quot;100%&quot;});\n",
       "\n",
       "        \n",
       "            \n",
       "                var html_6453f04fd7fadd86c9c41f3d237c53fd = $(`&lt;div id=&quot;html_6453f04fd7fadd86c9c41f3d237c53fd&quot; style=&quot;width: 100.0%; height: 100.0%;&quot;&gt;Origin&lt;/div&gt;`)[0];\n",
       "                popup_35104952d744bc816599b91656bf1027.setContent(html_6453f04fd7fadd86c9c41f3d237c53fd);\n",
       "            \n",
       "        \n",
       "\n",
       "        marker_f21fe0232e327f7b49ed12dd06cda29b.bindPopup(popup_35104952d744bc816599b91656bf1027)\n",
       "        ;\n",
       "\n",
       "        \n",
       "    \n",
       "    \n",
       "            var marker_cde8f81825319fcea022e35d1d00676d = L.marker(\n",
       "                [45.5175, -73.6568],\n",
       "                {}\n",
       "            ).addTo(map_f37f882f7c73066fa35573a2ffcac396);\n",
       "        \n",
       "    \n",
       "        var popup_ca68b7de6c26eaa4b4fb99c48a331993 = L.popup({&quot;maxWidth&quot;: &quot;100%&quot;});\n",
       "\n",
       "        \n",
       "            \n",
       "                var html_addea1dc9b4270a527e8459f0a79e120 = $(`&lt;div id=&quot;html_addea1dc9b4270a527e8459f0a79e120&quot; style=&quot;width: 100.0%; height: 100.0%;&quot;&gt;Destination&lt;/div&gt;`)[0];\n",
       "                popup_ca68b7de6c26eaa4b4fb99c48a331993.setContent(html_addea1dc9b4270a527e8459f0a79e120);\n",
       "            \n",
       "        \n",
       "\n",
       "        marker_cde8f81825319fcea022e35d1d00676d.bindPopup(popup_ca68b7de6c26eaa4b4fb99c48a331993)\n",
       "        ;\n",
       "\n",
       "        \n",
       "    \n",
       "    \n",
       "            tile_layer_2d31137025ec718c0d052dee1b4f6ff4.addTo(map_f37f882f7c73066fa35573a2ffcac396);\n",
       "        \n",
       "&lt;/script&gt;\n",
       "&lt;/html&gt;\" style=\"position:absolute;width:100%;height:100%;left:0;top:0;border:none !important;\" allowfullscreen webkitallowfullscreen mozallowfullscreen></iframe></div></div>"
      ],
      "text/plain": [
       "<folium.folium.Map at 0x7fb333c59a50>"
      ]
     },
     "execution_count": 8,
     "metadata": {},
     "output_type": "execute_result"
    }
   ],
   "source": [
    "import osmnx as ox\n",
    "import folium\n",
    "import networkx as nx\n",
    "\n",
    "# Step 1: Define the place (Montreal) and load the road network\n",
    "# Step 2: Simplify the graph\n",
    "# graph = ox.simplify_graph(graph)\n",
    "\n",
    "# Step 3: Find two points for demonstration (you can choose any lat/lon)\n",
    "orig = (45.5017, -73.5673)  # Montreal city center\n",
    "dest = (45.5175, -73.6568)  # A location west of the city center\n",
    "\n",
    "# Convert latitude/longitude to nearest nodes in the graph\n",
    "print('getting nearest nodes')\n",
    "orig_node = ox.distance.nearest_nodes(graph, orig[1], orig[0])\n",
    "dest_node = ox.distance.nearest_nodes(graph, dest[1], dest[0])\n",
    "print('got nearest node')\n",
    "# Step 4: Calculate the shortest path\n",
    "shortest_path = nx.shortest_path(graph, orig_node, dest_node, weight=\"length\")\n",
    "print('got shortest path')\n",
    "# Step 5: Visualize the path on a folium map\n",
    "# Create a folium map centered on Montreal\n",
    "m = folium.Map(location=orig, zoom_start=12)\n",
    "\n",
    "# Add the nodes and the shortest path to the map\n",
    "path_coords = [(graph.nodes[node]['y'], graph.nodes[node]['x']) for node in shortest_path]\n",
    "folium.PolyLine(path_coords, color=\"blue\", weight=2.5, opacity=1).add_to(m)\n",
    "\n",
    "# Add markers for origin and destination\n",
    "folium.Marker(orig, popup=\"Origin\").add_to(m)\n",
    "folium.Marker(dest, popup=\"Destination\").add_to(m)\n",
    "\n",
    "# Display the map\n",
    "m.save(\"montreal_shortest_path.html\")\n",
    "m\n"
   ]
  },
  {
   "cell_type": "code",
   "execution_count": null,
   "metadata": {},
   "outputs": [],
   "source": []
  }
 ],
 "metadata": {
  "kernelspec": {
   "display_name": "base",
   "language": "python",
   "name": "python3"
  },
  "language_info": {
   "codemirror_mode": {
    "name": "ipython",
    "version": 3
   },
   "file_extension": ".py",
   "mimetype": "text/x-python",
   "name": "python",
   "nbconvert_exporter": "python",
   "pygments_lexer": "ipython3",
   "version": "3.7.7"
  }
 },
 "nbformat": 4,
 "nbformat_minor": 2
}
