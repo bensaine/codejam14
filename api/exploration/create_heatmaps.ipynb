{
 "cells": [
  {
   "cell_type": "code",
   "execution_count": null,
   "metadata": {},
   "outputs": [],
   "source": [
    "DATA_FILE = '../data/crimes_raw.csv'\n",
    "CATEGORY_FILE = '../data/categories.csv'"
   ]
  },
  {
   "cell_type": "code",
   "execution_count": null,
   "metadata": {},
   "outputs": [],
   "source": [
    "import pandas as pd\n",
    "import json\n",
    "\n",
    "crime_data = pd.read_csv(DATA_FILE)\n",
    "crime_data = crime_data.dropna(subset=['LATITUDE', 'LONGITUDE'])\n",
    "\n",
    "categories = pd.read_csv(CATEGORY_FILE)\n",
    "categories.set_index('category', inplace=True)\n",
    "\n",
    "crime_data['DATE'] = pd.to_datetime(crime_data['DATE'])\n",
    "crime_data['INTENSITY'] = [categories.loc[category]['intensity'] for category in crime_data['CATEGORIE']]\n",
    "\n",
    "# split data by \"QUART\"\n",
    "quarterly_data = crime_data.groupby(crime_data[\"QUART\"])\n",
    "\n",
    "# keep only latitude, longitude and intensity\n",
    "quarterly_data = quarterly_data[['LATITUDE', 'LONGITUDE', 'INTENSITY']]\n",
    "\n",
    "# save all to json without column names\n",
    "results = {}\n",
    "for quarter, data in quarterly_data:\n",
    "    results[quarter] = data.values.tolist()\n",
    "\n",
    "\n",
    "with open('../data/crimes.json', 'w') as f:\n",
    "    json.dump(results, f)"
   ]
  }
 ],
 "metadata": {
  "kernelspec": {
   "display_name": "base",
   "language": "python",
   "name": "python3"
  },
  "language_info": {
   "codemirror_mode": {
    "name": "ipython",
    "version": 3
   },
   "file_extension": ".py",
   "mimetype": "text/x-python",
   "name": "python",
   "nbconvert_exporter": "python",
   "pygments_lexer": "ipython3",
   "version": "3.11.7"
  }
 },
 "nbformat": 4,
 "nbformat_minor": 2
}
